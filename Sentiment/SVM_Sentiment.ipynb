{
 "cells": [
  {
   "cell_type": "code",
   "execution_count": 2,
   "metadata": {},
   "outputs": [],
   "source": [
    "import pandas as pd\n",
    "import numpy as np\n",
    "from collections import Counter\n",
    "from sklearn.model_selection import train_test_split\n",
    "from sklearn.feature_extraction.text import TfidfVectorizer"
   ]
  },
  {
   "cell_type": "code",
   "execution_count": 3,
   "metadata": {},
   "outputs": [],
   "source": [
    "import nltk\n",
    "from nltk.corpus import stopwords\n",
    "stopwords = stopwords.words('german')"
   ]
  },
  {
   "cell_type": "markdown",
   "metadata": {},
   "source": [
    "# Data Preprocessing"
   ]
  },
  {
   "cell_type": "code",
   "execution_count": 6,
   "metadata": {},
   "outputs": [],
   "source": [
    "# Load the Dataset\n",
    "df = pd.read_csv(\"dataset.csv\")\n",
    "# remove rows without label\n",
    "df = df[df.label != 0]\n",
    "df = df.dropna()\n",
    "\n",
    "# shift labels by -2 so that negative = -1, neutral = 0 and positive = 1\n",
    "df['label'] = [x-2 for x in df['label']]\n",
    "\n",
    "# get the length of all samples\n",
    "total_samples = len(df['label'])\n",
    "\n",
    "# split the data into training and testing data. 2/3 for training, 1/3 for testing\n",
    "trainData , testData = df[:int(total_samples*(2/3))], df[int(total_samples*(2/3)):]\n",
    "\n",
    "\n",
    "\n",
    "# Create fthe tf-idf vectorizor\n",
    "vectorizer = TfidfVectorizer(min_df = 5,\n",
    "                             max_df = 1.0,\n",
    "                             sublinear_tf = True,\n",
    "                             use_idf = True)\n",
    "\n",
    "# transform the text into the tf-idf vectorized texts.\n",
    "train_vectors = vectorizer.fit_transform(trainData['text_lower'])\n",
    "test_vectors = vectorizer.transform(testData['text_lower'])"
   ]
  },
  {
   "cell_type": "code",
   "execution_count": 7,
   "metadata": {},
   "outputs": [
    {
     "name": "stdout",
     "output_type": "stream",
     "text": [
      "Training time: 3.994404s; Prediction time: 1.665094s\n",
      "\n",
      "_____________________________________________________\n",
      "              precision    recall  f1-score   support\n",
      "\n",
      "        -1.0     0.5182    0.4020    0.4528       495\n",
      "         0.0     0.5539    0.7455    0.6356       841\n",
      "         1.0     0.6055    0.4170    0.4939       578\n",
      "\n",
      "    accuracy                         0.5575      1914\n",
      "   macro avg     0.5592    0.5215    0.5274      1914\n",
      "weighted avg     0.5603    0.5575    0.5455      1914\n",
      "\n",
      "_____________________________________________________\n"
     ]
    }
   ],
   "source": [
    "import time\n",
    "from sklearn import svm\n",
    "from sklearn.metrics import classification_report\n",
    "# Perform classification with SVM, kernel=linear\n",
    "classifier_linear = svm.SVC(kernel='linear')\n",
    "\n",
    "# measure time, how long the algorithm take to train\n",
    "t0 = time.time()\n",
    "\n",
    "# train the actuall classifier\n",
    "classifier_linear.fit(train_vectors, trainData['label'])\n",
    "\n",
    "t1 = time.time()\n",
    "\n",
    "# predict the labels on the test set\n",
    "prediction_linear = classifier_linear.predict(test_vectors)\n",
    "\n",
    "t2 = time.time()\n",
    "\n",
    "# Calculate the training and testing time\n",
    "time_linear_train = t1-t0\n",
    "time_linear_predict = t2-t1\n",
    "# results\n",
    "print(\"Training time: %fs;\\n Prediction time: %fs\\n\" % (time_linear_train, time_linear_predict))\n",
    "print(\"_____________________________________________________\")\n",
    "print(classification_report(testData['label'], prediction_linear,digits=4, output_dict=False))\n",
    "print(\"_____________________________________________________\")\n",
    "\n"
   ]
  },
  {
   "cell_type": "code",
   "execution_count": 8,
   "metadata": {},
   "outputs": [
    {
     "name": "stdout",
     "output_type": "stream",
     "text": [
      "[[199 247  49]\n",
      " [106 627 108]\n",
      " [ 79 258 241]]\n",
      "Accuracy: 56.00000000000001 %\n"
     ]
    }
   ],
   "source": [
    "from sklearn.metrics import confusion_matrix\n",
    "\n",
    "# compute the confusion matrix\n",
    "cm = confusion_matrix(testData['label'].tolist(), prediction_linear)\n",
    "print(cm)\n",
    "pos = cm[0,0] + cm[1,1] + cm[2,2]\n",
    "neg = cm[0,1] + cm[0,2] + cm[1,0] + cm[1,2] + cm[2,0] + cm[2,1]"
   ]
  },
  {
   "cell_type": "code",
   "execution_count": null,
   "metadata": {},
   "outputs": [],
   "source": []
  }
 ],
 "metadata": {
  "kernelspec": {
   "display_name": "Python 3",
   "language": "python",
   "name": "python3"
  },
  "language_info": {
   "codemirror_mode": {
    "name": "ipython",
    "version": 3
   },
   "file_extension": ".py",
   "mimetype": "text/x-python",
   "name": "python",
   "nbconvert_exporter": "python",
   "pygments_lexer": "ipython3",
   "version": "3.7.3"
  }
 },
 "nbformat": 4,
 "nbformat_minor": 2
}
